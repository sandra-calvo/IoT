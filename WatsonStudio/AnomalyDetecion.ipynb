{
 "cells": [
  {
   "cell_type": "markdown",
   "metadata": {},
   "source": [
    "##Introduction\n",
    "This Notebook will help you to identify anomalies in your historical timeseries data (IoT data) in simple steps. Also, derive the threshold value for your historical data. This threshold value can be used to set rules in [Watson IoT Platform](http://www.ibm.com/internet-of-things/), such that you get an alert when your IoT device reports an abnormal reading in the future.\n",
    "\n",
    "###Accepted file format\n",
    "\n",
    "Note that, this Notebook accepts the CSV file in one of the following file formats: \n",
    "\n",
    "    2 column format: <Date and time in DD/MM/YYYY or MM/DD/YYYY format, Numeric value>\n",
    "    1 column format: <Numeric value>\n",
    "    \n",
    "###1. Sample data\n",
    "\n",
    "In case if you don’t have any file, try downloading the sample file [from this link](https://github.com/ibm-watson-iot/predictive-analytics-samples/releases/download/0.0.3/sample-data.csv). The sample file contains a temperature data updated for ever 15 minutes. Also, the sample data contains spikes and dips to demonstrate the danger situation.\n",
    "\n",
    "###2. Load data\n",
    "\n",
    "You can add the CSV file that you downloaded to this notebook by dragging the file to the Data Source pane in the notebook Palette in the notebook. The data file is listed on the Data Source pane and is saved in the Object Storage instance associated with your Analytics for Apache Spark service. The progress bar below the file in the Data Source panel indicates the status of the load process. In the next step, you will learn how to access files in Object Storage.\n",
    "\n",
    "###3.Access data\n",
    "\n",
    "pandas is a useful Python package for managing structured data. The two primary data structures of pandas are Series (1-dimensional) and DataFrame (2-dimensional).\n",
    "\n",
    "In the following steps, you will load the csv file into a DataFrame in memory.\n",
    "\n",
    "To run code cells in a notebook, click Run Cell (►) in the notebook toolbar. While the code in the cell is running, a [\\*] appears next to the cell. After the code has run, the [\\*] is replaced by a number indicating that the code cell is the Nth cell to run in the notebook.\n",
    "\n",
    "\n",
    "####Import packages to the notebook\n",
    "\n",
    "Import the requests, base64, StringIO, pandas and re packages to use in the notebook. The pandas package is traditionally imported as pd:\n"
   ]
  },
  {
   "cell_type": "code",
   "execution_count": 1,
   "metadata": {
    "collapsed": true
   },
   "outputs": [],
   "source": [
    "import requests, StringIO, pandas as pd, json, re"
   ]
  },
  {
   "cell_type": "markdown",
   "metadata": {},
   "source": [
    "####Access Object Storage\n",
    "\n",
    "Because the csv file is located in Object Storage, you need to define a helper function to access the data file that you loaded. Run the following cell to define the method get_file_content():"
   ]
  },
  {
   "cell_type": "code",
   "execution_count": 2,
   "metadata": {
    "collapsed": true
   },
   "outputs": [],
   "source": [
    "def get_file_content(credentials):\n",
    "    \"\"\"For given credentials, this functions returns a StringIO object containing the file content.\"\"\"\n",
    "\n",
    "    url1 = ''.join([credentials['auth_url'], '/v3/auth/tokens'])\n",
    "    data = {'auth': {'identity': {'methods': ['password'],\n",
    "            'password': {'user': {'name': credentials['username'],'domain': {'id': credentials['domain_id']},\n",
    "            'password': credentials['password']}}}}}\n",
    "    headers1 = {'Content-Type': 'application/json'}\n",
    "    resp1 = requests.post(url=url1, data=json.dumps(data), headers=headers1)\n",
    "    resp1_body = resp1.json()\n",
    "    for e1 in resp1_body['token']['catalog']:\n",
    "        if(e1['type']=='object-store'):\n",
    "            for e2 in e1['endpoints']:\n",
    "                if(e2['interface']=='public'and e2['region']==credentials['region']):\n",
    "                    url2 = ''.join([e2['url'],'/', credentials['container'], '/', credentials['filename']])\n",
    "    s_subject_token = resp1.headers['x-subject-token']\n",
    "    headers2 = {'X-Auth-Token': s_subject_token, 'accept': 'application/json'}\n",
    "    resp2 = requests.get(url=url2, headers=headers2)\n",
    "    return StringIO.StringIO(resp2.content)"
   ]
  },
  {
   "cell_type": "markdown",
   "metadata": {},
   "source": [
    "####Insert data source credentials\n",
    "\n",
    "To add the credentials to access the csv file which is stored in Object Storage, click the next code cell and select the **Insert to code** function below the data file in the **Data Source pane** in the notebook palette.\n",
    "\n",
    "The credentials for accessing the csv file are added to the cell as a Python dictionary. With these credentials, you can use the helper function to load the data file into a *pandas.DataFrame.*\n",
    "\n",
    "**Note**: When you select the **Insert to code function**, a code cell with a dictionary is created for you. Adjust the credentials in the Python dictionary to correspond with the credentials inserted by the Insert to code function and run the dictionary code cell. The access credentials to the Object Storage instance in the dictionary are provided for convenience for later usage"
   ]
  },
  {
   "cell_type": "code",
   "execution_count": 3,
   "metadata": {
    "collapsed": true
   },
   "outputs": [],
   "source": []
  },
  {
   "cell_type": "markdown",
   "metadata": {},
   "source": [
    "####Load data into pandas DataFrame\n",
    "Run the next cell to load the data into a pandas DataFrame:"
   ]
  },
  {
   "cell_type": "code",
   "execution_count": 6,
   "metadata": {
    "collapsed": false
   },
   "outputs": [],
   "source": [
    "content_string = get_file_content(credentials_1)\n",
    "pandaDF = pd.read_csv(content_string)"
   ]
  },
  {
   "cell_type": "markdown",
   "metadata": {},
   "source": [
    "###4. Explore data\n",
    "\n",
    "Now that your data is in memory, you can begin to explore and manipulate it.\n",
    "\n",
    "Show the first five and the last five rows of the data by using the *head()* and *tail()* methods. Run each code cell:"
   ]
  },
  {
   "cell_type": "code",
   "execution_count": 7,
   "metadata": {
    "collapsed": false
   },
   "outputs": [
    {
     "data": {
      "text/html": [
       "<div style=\"max-height:1000px;max-width:1500px;overflow:auto;\">\n",
       "<table border=\"1\" class=\"dataframe\">\n",
       "  <thead>\n",
       "    <tr style=\"text-align: right;\">\n",
       "      <th></th>\n",
       "      <th>timestamp</th>\n",
       "      <th>temperature</th>\n",
       "    </tr>\n",
       "  </thead>\n",
       "  <tbody>\n",
       "    <tr>\n",
       "      <th>0</th>\n",
       "      <td> 1/5/2016 0:15</td>\n",
       "      <td> 42.89</td>\n",
       "    </tr>\n",
       "    <tr>\n",
       "      <th>1</th>\n",
       "      <td> 1/5/2016 0:30</td>\n",
       "      <td> 53.20</td>\n",
       "    </tr>\n",
       "    <tr>\n",
       "      <th>2</th>\n",
       "      <td> 1/5/2016 0:45</td>\n",
       "      <td> 44.96</td>\n",
       "    </tr>\n",
       "    <tr>\n",
       "      <th>3</th>\n",
       "      <td> 1/5/2016 1:00</td>\n",
       "      <td> 48.05</td>\n",
       "    </tr>\n",
       "    <tr>\n",
       "      <th>4</th>\n",
       "      <td> 1/5/2016 1:15</td>\n",
       "      <td> 50.52</td>\n",
       "    </tr>\n",
       "  </tbody>\n",
       "</table>\n",
       "</div>"
      ],
      "text/plain": [
       "       timestamp  temperature\n",
       "0  1/5/2016 0:15        42.89\n",
       "1  1/5/2016 0:30        53.20\n",
       "2  1/5/2016 0:45        44.96\n",
       "3  1/5/2016 1:00        48.05\n",
       "4  1/5/2016 1:15        50.52"
      ]
     },
     "execution_count": 7,
     "metadata": {},
     "output_type": "execute_result"
    }
   ],
   "source": [
    "pandaDF.head()"
   ]
  },
  {
   "cell_type": "code",
   "execution_count": 8,
   "metadata": {
    "collapsed": false
   },
   "outputs": [
    {
     "data": {
      "text/html": [
       "<div style=\"max-height:1000px;max-width:1500px;overflow:auto;\">\n",
       "<table border=\"1\" class=\"dataframe\">\n",
       "  <thead>\n",
       "    <tr style=\"text-align: right;\">\n",
       "      <th></th>\n",
       "      <th>timestamp</th>\n",
       "      <th>temperature</th>\n",
       "    </tr>\n",
       "  </thead>\n",
       "  <tbody>\n",
       "    <tr>\n",
       "      <th>715</th>\n",
       "      <td> 1/12/2016 11:00</td>\n",
       "      <td> 49.63</td>\n",
       "    </tr>\n",
       "    <tr>\n",
       "      <th>716</th>\n",
       "      <td> 1/12/2016 11:15</td>\n",
       "      <td> 41.58</td>\n",
       "    </tr>\n",
       "    <tr>\n",
       "      <th>717</th>\n",
       "      <td> 1/12/2016 11:30</td>\n",
       "      <td> 41.42</td>\n",
       "    </tr>\n",
       "    <tr>\n",
       "      <th>718</th>\n",
       "      <td> 1/12/2016 11:45</td>\n",
       "      <td> 41.61</td>\n",
       "    </tr>\n",
       "    <tr>\n",
       "      <th>719</th>\n",
       "      <td> 1/12/2016 12:00</td>\n",
       "      <td> 41.61</td>\n",
       "    </tr>\n",
       "  </tbody>\n",
       "</table>\n",
       "</div>"
      ],
      "text/plain": [
       "           timestamp  temperature\n",
       "715  1/12/2016 11:00        49.63\n",
       "716  1/12/2016 11:15        41.58\n",
       "717  1/12/2016 11:30        41.42\n",
       "718  1/12/2016 11:45        41.61\n",
       "719  1/12/2016 12:00        41.61"
      ]
     },
     "execution_count": 8,
     "metadata": {},
     "output_type": "execute_result"
    }
   ],
   "source": [
    "pandaDF.tail()"
   ]
  },
  {
   "cell_type": "markdown",
   "metadata": {},
   "source": [
    "Similarly to count the number of rows in the csv file (Pandas dataframe) run the following code,"
   ]
  },
  {
   "cell_type": "code",
   "execution_count": 9,
   "metadata": {
    "collapsed": false
   },
   "outputs": [
    {
     "data": {
      "text/plain": [
       "timestamp      720\n",
       "temperature    720\n",
       "dtype: int64"
      ]
     },
     "execution_count": 9,
     "metadata": {},
     "output_type": "execute_result"
    }
   ],
   "source": [
    "pandaDF.count()"
   ]
  },
  {
   "cell_type": "markdown",
   "metadata": {},
   "source": [
    "Enter the following commands in the next cell to set timestamp as the index if its present and click Run,"
   ]
  },
  {
   "cell_type": "code",
   "execution_count": 11,
   "metadata": {
    "collapsed": false
   },
   "outputs": [
    {
     "data": {
      "text/html": [
       "<div style=\"max-height:1000px;max-width:1500px;overflow:auto;\">\n",
       "<table border=\"1\" class=\"dataframe\">\n",
       "  <thead>\n",
       "    <tr style=\"text-align: right;\">\n",
       "      <th></th>\n",
       "      <th>temperature</th>\n",
       "    </tr>\n",
       "    <tr>\n",
       "      <th>timestamp</th>\n",
       "      <th></th>\n",
       "    </tr>\n",
       "  </thead>\n",
       "  <tbody>\n",
       "    <tr>\n",
       "      <th>2016-01-05 00:15:00</th>\n",
       "      <td> 42.89</td>\n",
       "    </tr>\n",
       "    <tr>\n",
       "      <th>2016-01-05 00:30:00</th>\n",
       "      <td> 53.20</td>\n",
       "    </tr>\n",
       "    <tr>\n",
       "      <th>2016-01-05 00:45:00</th>\n",
       "      <td> 44.96</td>\n",
       "    </tr>\n",
       "    <tr>\n",
       "      <th>2016-01-05 01:00:00</th>\n",
       "      <td> 48.05</td>\n",
       "    </tr>\n",
       "    <tr>\n",
       "      <th>2016-01-05 01:15:00</th>\n",
       "      <td> 50.52</td>\n",
       "    </tr>\n",
       "  </tbody>\n",
       "</table>\n",
       "</div>"
      ],
      "text/plain": [
       "                     temperature\n",
       "timestamp                       \n",
       "2016-01-05 00:15:00        42.89\n",
       "2016-01-05 00:30:00        53.20\n",
       "2016-01-05 00:45:00        44.96\n",
       "2016-01-05 01:00:00        48.05\n",
       "2016-01-05 01:15:00        50.52"
      ]
     },
     "execution_count": 11,
     "metadata": {},
     "output_type": "execute_result"
    }
   ],
   "source": [
    "# change index to time if its present\n",
    "header_list = pandaDF.columns.values\n",
    "valueHeaderName = 'value'\n",
    "timeHeaderName = 'null'\n",
    "\n",
    "if (len(header_list) == 2):\n",
    "    timeHeaderName = header_list[0]\n",
    "    valueHeaderName = header_list[1]\n",
    "else:\n",
    "    valueHeaderName = header_list[0]\n",
    " \n",
    "# Drop the timestamp column as the index is replaced with timestamp now\n",
    "if (len(header_list) == 2):\n",
    "    pandaDF[timeHeaderName] = pd.to_datetime(pandaDF[timeHeaderName])\n",
    "    pandaDF.index = pandaDF[timeHeaderName]\n",
    "    pandaDF = pandaDF.drop([timeHeaderName], axis=1)\n",
    "    # Also, sort the index with the timestamp\n",
    "    pandaDF.sort_index(inplace=True)\n",
    " \n",
    "pandaDF.head(n=5)"
   ]
  },
  {
   "cell_type": "markdown",
   "metadata": {},
   "source": [
    "### 5. Calculate z-score\n",
    "We detect the anomaly events using z-score, aka, a [standard score](https://en.wikipedia.org/wiki/Standard_score) indicating how many standard deviations an element is from the mean.\n",
    "\n",
    "Enter the following commands to calculate z-score for each of the values and add it as a new column in the same DataFrame,"
   ]
  },
  {
   "cell_type": "code",
   "execution_count": 12,
   "metadata": {
    "collapsed": false
   },
   "outputs": [
    {
     "data": {
      "text/html": [
       "<div style=\"max-height:1000px;max-width:1500px;overflow:auto;\">\n",
       "<table border=\"1\" class=\"dataframe\">\n",
       "  <thead>\n",
       "    <tr style=\"text-align: right;\">\n",
       "      <th></th>\n",
       "      <th>temperature</th>\n",
       "      <th>zscore</th>\n",
       "    </tr>\n",
       "    <tr>\n",
       "      <th>timestamp</th>\n",
       "      <th></th>\n",
       "      <th></th>\n",
       "    </tr>\n",
       "  </thead>\n",
       "  <tbody>\n",
       "    <tr>\n",
       "      <th>2016-01-05 00:15:00</th>\n",
       "      <td> 42.89</td>\n",
       "      <td>-0.290168</td>\n",
       "    </tr>\n",
       "    <tr>\n",
       "      <th>2016-01-05 00:30:00</th>\n",
       "      <td> 53.20</td>\n",
       "      <td> 0.933940</td>\n",
       "    </tr>\n",
       "    <tr>\n",
       "      <th>2016-01-05 00:45:00</th>\n",
       "      <td> 44.96</td>\n",
       "      <td>-0.044397</td>\n",
       "    </tr>\n",
       "    <tr>\n",
       "      <th>2016-01-05 01:00:00</th>\n",
       "      <td> 48.05</td>\n",
       "      <td> 0.322479</td>\n",
       "    </tr>\n",
       "    <tr>\n",
       "      <th>2016-01-05 01:15:00</th>\n",
       "      <td> 50.52</td>\n",
       "      <td> 0.615743</td>\n",
       "    </tr>\n",
       "  </tbody>\n",
       "</table>\n",
       "</div>"
      ],
      "text/plain": [
       "                     temperature    zscore\n",
       "timestamp                                 \n",
       "2016-01-05 00:15:00        42.89 -0.290168\n",
       "2016-01-05 00:30:00        53.20  0.933940\n",
       "2016-01-05 00:45:00        44.96 -0.044397\n",
       "2016-01-05 01:00:00        48.05  0.322479\n",
       "2016-01-05 01:15:00        50.52  0.615743"
      ]
     },
     "execution_count": 12,
     "metadata": {},
     "output_type": "execute_result"
    }
   ],
   "source": [
    "# calculate z-score and populate a new column\n",
    "pandaDF['zscore'] = (pandaDF[valueHeaderName] - pandaDF[valueHeaderName].mean())/pandaDF[valueHeaderName].std(ddof=0)\n",
    "pandaDF.head(n=5)"
   ]
  },
  {
   "cell_type": "markdown",
   "metadata": {},
   "source": [
    "###6. Plot Anomalies\n",
    "\n",
    "When we work in notebooks, we can decide how to present your anlysis results and derived information. So far, we have used normal print functions, which are informative. However, we can also show the results in a visual way by using the popular [matplotlib package](http://matplotlib.org/) to create plots.\n",
    "\n",
    "Enter the following snippet of the code in the next cell to view the anomaly events in your data and click Run. Observe that the values for which the z-score is above 3 or below -3, marked as abnormal events in the graph shown below,"
   ]
  },
  {
   "cell_type": "code",
   "execution_count": 13,
   "metadata": {
    "collapsed": false
   },
   "outputs": [
    {
     "data": {
      "image/png": "[encoded data removed]",
      "text/plain": [
       "<matplotlib.figure.Figure at 0x7f64cdbb0110>"
      ]
     },
     "metadata": {},
     "output_type": "display_data"
    }
   ],
   "source": [
    "# ignore warnings if any\n",
    "import warnings\n",
    "warnings.filterwarnings('ignore')\n",
    "\n",
    "# render the results as inline charts:\n",
    "%matplotlib inline\n",
    "import numpy as np\n",
    "import matplotlib.pyplot as plt\n",
    "\n",
    "'''\n",
    "This function detects the spike and dip by returning a non-zero value \n",
    "when the z-score is above 3 (spike) and below -3(dip). Incase if you \n",
    "want to capture the smaller spikes and dips, lower the zscore value from \n",
    "3 to 2 in this function.\n",
    "'''\n",
    "def spike(row):\n",
    "    if(row['zscore'] >=3 or row['zscore'] <=-3):\n",
    "        return row[valueHeaderName]\n",
    "    else:\n",
    "        return 0\n",
    "    \n",
    "pandaDF['spike'] = pandaDF.apply(spike, axis=1)\n",
    "# select rows that are required for plotting\n",
    "plotDF = pandaDF[[valueHeaderName,'spike']]\n",
    "#calculate the y minimum value\n",
    "y_min = (pandaDF[valueHeaderName].max() - pandaDF[valueHeaderName].min()) / 10\n",
    "fig, ax = plt.subplots(num=None, figsize=(14, 6), dpi=80, facecolor='w', edgecolor='k')\n",
    "ax.set_ylim(plotDF[valueHeaderName].min() - y_min, plotDF[valueHeaderName].max() + y_min)\n",
    "x_filt = plotDF.index[plotDF.spike != 0]\n",
    "plotDF['xyvaluexy'] = plotDF[valueHeaderName]\n",
    "y_filt = plotDF.xyvaluexy[plotDF.spike != 0]\n",
    "#Plot the raw data in blue colour\n",
    "line1 = ax.plot(plotDF.index, plotDF[valueHeaderName], '-', color='blue', animated = True, linewidth=1)\n",
    "#plot the anomalies in red circle\n",
    "line2 = ax.plot(x_filt, y_filt, 'ro', color='red', linewidth=2, animated = True)\n",
    "#Fill the raw area\n",
    "ax.fill_between(plotDF.index, (pandaDF[valueHeaderName].min() - y_min), plotDF[valueHeaderName], interpolate=True, color='blue',alpha=0.6)\n",
    "\n",
    "# Label the axis\n",
    "ax.set_xlabel(\"Sequence\",fontsize=20)\n",
    "ax.set_ylabel(valueHeaderName,fontsize=20)\n",
    "\n",
    "plt.tight_layout()\n",
    "plt.legend()\n",
    "plt.show()"
   ]
  },
  {
   "cell_type": "markdown",
   "metadata": {
    "collapsed": true
   },
   "source": [
    "As shown, the red marks are the unexpected spikes and dips whose z-score value is greater than 3 or less than -3. Incase if you want to detect the lower spikes, modify the value to 2 or even lower and run. Similarly, if you want to detect only the higher spikes, try increasing the z-score value from 3 to 4 and beyond.\n",
    "\n",
    "###7. Derive thresholds\n",
    "Enter the following command into the next cell to derive the Spike threshold value corresponding to z-score value 3 and click Run."
   ]
  },
  {
   "cell_type": "code",
   "execution_count": 14,
   "metadata": {
    "collapsed": false
   },
   "outputs": [
    {
     "data": {
      "text/plain": [
       "70.601299674769308"
      ]
     },
     "execution_count": 14,
     "metadata": {},
     "output_type": "execute_result"
    }
   ],
   "source": [
    "# calculate the value that is corresponding to z-score 3\n",
    "(pandaDF[valueHeaderName].std(ddof=0) * 3) + pandaDF[valueHeaderName].mean()"
   ]
  },
  {
   "cell_type": "markdown",
   "metadata": {},
   "source": [
    "Similarly, Enter the following command into the next cell to derive the dip threshold value corresponding to z-score value -3."
   ]
  },
  {
   "cell_type": "code",
   "execution_count": 15,
   "metadata": {
    "collapsed": false
   },
   "outputs": [
    {
     "data": {
      "text/plain": [
       "20.066561436341807"
      ]
     },
     "execution_count": 15,
     "metadata": {},
     "output_type": "execute_result"
    }
   ],
   "source": [
    "# calculate the value that is corresponding to z-score -3\n",
    "(pandaDF[valueHeaderName].std(ddof=0) * -3) + pandaDF[valueHeaderName].mean()"
   ]
  },
  {
   "cell_type": "markdown",
   "metadata": {},
   "source": [
    "This threshold value can be used to create a rule in the Watson IoT Platform to detect anomalies in the current IoT device events in realtime. This will create an alert in realtime when the current sensor reading crosses the threshold value.\n",
    "\n",
    "###8. Summary\n",
    "This Notebook showed how to use the z-score to detect anomalies in the historical timeseries data in simple steps. Also, showed how one can derive the threshold values for the given historical data to create rules accordingly in IBM Watson IoT Platform. Developers can consider this Notebook as a template for detecting anomalies in their historical IoT data and modify the python code depending upon the use case."
   ]
  },
  {
   "cell_type": "code",
   "execution_count": null,
   "metadata": {
    "collapsed": true
   },
   "outputs": [],
   "source": []
  }
 ],
 "metadata": {
  "kernelspec": {
   "display_name": "Python 2",
   "language": "python",
   "name": "python2"
  },
  "language_info": {
   "codemirror_mode": {
    "name": "ipython",
    "version": 2
   },
   "file_extension": ".py",
   "mimetype": "text/x-python",
   "name": "python",
   "nbconvert_exporter": "python",
   "pygments_lexer": "ipython2",
   "version": "2.7.9"
  }
 },
 "nbformat": 4,
 "nbformat_minor": 0
}